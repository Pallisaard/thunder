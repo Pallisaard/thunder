{
 "cells": [
  {
   "cell_type": "code",
   "execution_count": 18,
   "metadata": {},
   "outputs": [],
   "source": [
    "import jax\n",
    "import jax.numpy as jnp\n",
    "from flax import struct\n",
    "import flax.linen as nn\n",
    "from flax.training import train_state\n",
    "from clu import metrics\n",
    "from optax import softmax_cross_entropy, adamw\n",
    "from functools import partial"
   ]
  },
  {
   "cell_type": "code",
   "execution_count": 2,
   "metadata": {},
   "outputs": [],
   "source": [
    "@struct.dataclass\n",
    "class MyMetrics(metrics.Collection):\n",
    "    accuracy: metrics.Accuracy\n",
    "    loss: metrics.Average.from_output(\"loss\")  # type: ignore\n",
    "\n",
    "\n",
    "class CustomState(train_state.TrainState):\n",
    "    metrics: MyMetrics"
   ]
  },
  {
   "cell_type": "code",
   "execution_count": 3,
   "metadata": {},
   "outputs": [],
   "source": [
    "class Model(nn.Module):\n",
    "\n",
    "    @nn.compact\n",
    "    def __call__(self, x):\n",
    "        x = nn.Dense(2)(x)\n",
    "        x = nn.relu(x)\n",
    "        return x\n",
    "\n",
    "class OverModel(nn.Module):\n",
    "    def setup(self):\n",
    "        self.model1 = Model()\n",
    "        self.model2 = Model()\n",
    "    \n",
    "    def __call__(self, x):\n",
    "        y1 = self.model1(x)\n",
    "        y2 = self.model2(x)\n",
    "        return y1, y2"
   ]
  },
  {
   "cell_type": "code",
   "execution_count": 4,
   "metadata": {},
   "outputs": [
    {
     "data": {
      "text/plain": [
       "Array(0.6931472, dtype=float32)"
      ]
     },
     "execution_count": 4,
     "metadata": {},
     "output_type": "execute_result"
    }
   ],
   "source": [
    "key = jax.random.PRNGKey(0)\n",
    "model = Model()\n",
    "test_x = jnp.ones((1, 2))\n",
    "test_labels = jnp.zeros((1, 2)).at[0, 1].set(1)\n",
    "params = model.init(key, test_x)\n",
    "params[\"params\"][\"Dense_0\"][\"kernel\"] = jnp.array([[1.0, 1.0], [1.0, 1.0]])\n",
    "y = model.apply(params, test_x)\n",
    "loss = softmax_cross_entropy(y, test_labels).mean()\n",
    "loss"
   ]
  },
  {
   "cell_type": "code",
   "execution_count": 5,
   "metadata": {},
   "outputs": [
    {
     "data": {
      "text/plain": [
       "(Array(0.6931472, dtype=float32), Array([[2., 2.]], dtype=float32))"
      ]
     },
     "execution_count": 5,
     "metadata": {},
     "output_type": "execute_result"
    }
   ],
   "source": [
    "base_state = train_state.TrainState.create(\n",
    "    apply_fn=model.apply, params=params, tx=adamw(1e-3)\n",
    ")\n",
    "\n",
    "state = CustomState.create(\n",
    "    apply_fn=model.apply,\n",
    "    params=params,\n",
    "    tx=adamw(1e-3),\n",
    "    metrics=MyMetrics.empty(),\n",
    ")\n",
    "\n",
    "y = state.apply_fn(state.params, test_x)\n",
    "loss = softmax_cross_entropy(y, test_labels).mean()\n",
    "loss, y"
   ]
  },
  {
   "cell_type": "code",
   "execution_count": 6,
   "metadata": {},
   "outputs": [
    {
     "data": {
      "text/plain": [
       "{'params': {'Dense_0': {'kernel': Array([[1., 1.],\n",
       "          [1., 1.]], dtype=float32),\n",
       "   'bias': Array([0., 0.], dtype=float32)}}}"
      ]
     },
     "execution_count": 6,
     "metadata": {},
     "output_type": "execute_result"
    }
   ],
   "source": [
    "params"
   ]
  },
  {
   "cell_type": "code",
   "execution_count": 7,
   "metadata": {},
   "outputs": [],
   "source": [
    "def loss_fn1(params, state, batch):\n",
    "    x, labels = batch\n",
    "    logits = state.apply_fn(params, x)\n",
    "    loss = softmax_cross_entropy(logits, labels).mean()\n",
    "    return loss, y\n",
    "\n",
    "def loss_fn2(state, batch):\n",
    "    x, labels = batch\n",
    "    logits = state.apply_fn(state.params, x)\n",
    "    loss = softmax_cross_entropy(logits, labels).mean()\n",
    "    return loss, y"
   ]
  },
  {
   "cell_type": "code",
   "execution_count": 8,
   "metadata": {},
   "outputs": [
    {
     "data": {
      "text/plain": [
       "((Array(0.6931472, dtype=float32), Array([[2., 2.]], dtype=float32)),\n",
       " (Array(0.6931472, dtype=float32), Array([[2., 2.]], dtype=float32)))"
      ]
     },
     "execution_count": 8,
     "metadata": {},
     "output_type": "execute_result"
    }
   ],
   "source": [
    "l1 = loss_fn1(state.params, state, (test_x, test_labels))\n",
    "l2 = loss_fn2(state, (test_x, test_labels))\n",
    "l1, l2"
   ]
  },
  {
   "cell_type": "code",
   "execution_count": 24,
   "metadata": {},
   "outputs": [],
   "source": [
    "grad_fn1 = jax.grad(partial(loss_fn1, state=state, batch=(test_x, test_labels)), has_aux=True)\n",
    "g1, _ = grad_fn1(state.params)\n",
    "g2, _ = grad_fn1(state.params)\n",
    "# g1, g2"
   ]
  },
  {
   "cell_type": "code",
   "execution_count": 27,
   "metadata": {},
   "outputs": [
    {
     "data": {
      "text/plain": [
       "True"
      ]
     },
     "execution_count": 27,
     "metadata": {},
     "output_type": "execute_result"
    }
   ],
   "source": [
    "jax.tree.all(jax.tree.map(lambda x, y: jnp.all(x == y), g1, g2))"
   ]
  },
  {
   "cell_type": "code",
   "execution_count": null,
   "metadata": {},
   "outputs": [],
   "source": []
  }
 ],
 "metadata": {
  "kernelspec": {
   "display_name": "thunder-3mNzLrbq-py3.12",
   "language": "python",
   "name": "python3"
  },
  "language_info": {
   "codemirror_mode": {
    "name": "ipython",
    "version": 3
   },
   "file_extension": ".py",
   "mimetype": "text/x-python",
   "name": "python",
   "nbconvert_exporter": "python",
   "pygments_lexer": "ipython3",
   "version": "3.12.4"
  }
 },
 "nbformat": 4,
 "nbformat_minor": 2
}
